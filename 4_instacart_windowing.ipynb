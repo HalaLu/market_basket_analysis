{
 "cells": [
  {
   "cell_type": "code",
   "execution_count": 1,
   "metadata": {},
   "outputs": [],
   "source": [
    "import pandas as pd\n",
    "import numpy as np\n",
    "from tqdm.auto import tqdm\n",
    "\n",
    "tqdm.pandas()\n",
    "\n",
    "import warnings\n",
    "warnings.filterwarnings(\"ignore\")"
   ]
  },
  {
   "cell_type": "code",
   "execution_count": 2,
   "metadata": {},
   "outputs": [
    {
     "name": "stdout",
     "output_type": "stream",
     "text": [
      "(595542, 516)\n"
     ]
    },
    {
     "data": {
      "text/html": [
       "<div>\n",
       "<style scoped>\n",
       "    .dataframe tbody tr th:only-of-type {\n",
       "        vertical-align: middle;\n",
       "    }\n",
       "\n",
       "    .dataframe tbody tr th {\n",
       "        vertical-align: top;\n",
       "    }\n",
       "\n",
       "    .dataframe thead th {\n",
       "        text-align: right;\n",
       "    }\n",
       "</style>\n",
       "<table border=\"1\" class=\"dataframe\">\n",
       "  <thead>\n",
       "    <tr style=\"text-align: right;\">\n",
       "      <th></th>\n",
       "      <th>order_id</th>\n",
       "      <th>user_id</th>\n",
       "      <th>order_number</th>\n",
       "      <th>order_dow</th>\n",
       "      <th>order_hour_of_day</th>\n",
       "      <th>days_since_prior_order</th>\n",
       "      <th>1% Lowfat Milk</th>\n",
       "      <th>100 Calorie  Per Bag Popcorn</th>\n",
       "      <th>100% Raw Coconut Water</th>\n",
       "      <th>100% Recycled Paper Towels</th>\n",
       "      <th>...</th>\n",
       "      <th>Crackers Cheddar Bunnies Snack Packs</th>\n",
       "      <th>days_since_first_order</th>\n",
       "      <th>reorders</th>\n",
       "      <th>organics</th>\n",
       "      <th>basket_size</th>\n",
       "      <th>num_orders</th>\n",
       "      <th>global_reorders</th>\n",
       "      <th>tx_purpose_weekly</th>\n",
       "      <th>tx_purpose_monthly</th>\n",
       "      <th>clusters</th>\n",
       "    </tr>\n",
       "  </thead>\n",
       "  <tbody>\n",
       "    <tr>\n",
       "      <th>0</th>\n",
       "      <td>4</td>\n",
       "      <td>178520</td>\n",
       "      <td>36</td>\n",
       "      <td>1</td>\n",
       "      <td>9</td>\n",
       "      <td>7.0</td>\n",
       "      <td>0.0</td>\n",
       "      <td>0.0</td>\n",
       "      <td>0.0</td>\n",
       "      <td>0.0</td>\n",
       "      <td>...</td>\n",
       "      <td>0.0</td>\n",
       "      <td>231.0</td>\n",
       "      <td>10.0</td>\n",
       "      <td>0.0</td>\n",
       "      <td>13.0</td>\n",
       "      <td>58.0</td>\n",
       "      <td>12.0</td>\n",
       "      <td>1.0</td>\n",
       "      <td>0.0</td>\n",
       "      <td>11</td>\n",
       "    </tr>\n",
       "    <tr>\n",
       "      <th>1</th>\n",
       "      <td>5</td>\n",
       "      <td>156122</td>\n",
       "      <td>42</td>\n",
       "      <td>6</td>\n",
       "      <td>16</td>\n",
       "      <td>9.0</td>\n",
       "      <td>0.0</td>\n",
       "      <td>0.0</td>\n",
       "      <td>0.0</td>\n",
       "      <td>0.0</td>\n",
       "      <td>...</td>\n",
       "      <td>0.0</td>\n",
       "      <td>289.0</td>\n",
       "      <td>13.0</td>\n",
       "      <td>3.0</td>\n",
       "      <td>26.0</td>\n",
       "      <td>53.0</td>\n",
       "      <td>24.0</td>\n",
       "      <td>0.0</td>\n",
       "      <td>0.0</td>\n",
       "      <td>7</td>\n",
       "    </tr>\n",
       "    <tr>\n",
       "      <th>2</th>\n",
       "      <td>15</td>\n",
       "      <td>54901</td>\n",
       "      <td>51</td>\n",
       "      <td>3</td>\n",
       "      <td>11</td>\n",
       "      <td>2.0</td>\n",
       "      <td>0.0</td>\n",
       "      <td>0.0</td>\n",
       "      <td>0.0</td>\n",
       "      <td>0.0</td>\n",
       "      <td>...</td>\n",
       "      <td>0.0</td>\n",
       "      <td>152.0</td>\n",
       "      <td>19.0</td>\n",
       "      <td>1.0</td>\n",
       "      <td>5.0</td>\n",
       "      <td>99.0</td>\n",
       "      <td>3.0</td>\n",
       "      <td>0.0</td>\n",
       "      <td>0.0</td>\n",
       "      <td>6</td>\n",
       "    </tr>\n",
       "    <tr>\n",
       "      <th>3</th>\n",
       "      <td>18</td>\n",
       "      <td>118860</td>\n",
       "      <td>3</td>\n",
       "      <td>4</td>\n",
       "      <td>20</td>\n",
       "      <td>6.0</td>\n",
       "      <td>0.0</td>\n",
       "      <td>0.0</td>\n",
       "      <td>0.0</td>\n",
       "      <td>1.0</td>\n",
       "      <td>...</td>\n",
       "      <td>0.0</td>\n",
       "      <td>13.0</td>\n",
       "      <td>13.0</td>\n",
       "      <td>6.0</td>\n",
       "      <td>28.0</td>\n",
       "      <td>47.0</td>\n",
       "      <td>18.0</td>\n",
       "      <td>0.0</td>\n",
       "      <td>0.0</td>\n",
       "      <td>6</td>\n",
       "    </tr>\n",
       "    <tr>\n",
       "      <th>4</th>\n",
       "      <td>28</td>\n",
       "      <td>98256</td>\n",
       "      <td>29</td>\n",
       "      <td>3</td>\n",
       "      <td>13</td>\n",
       "      <td>6.0</td>\n",
       "      <td>1.0</td>\n",
       "      <td>0.0</td>\n",
       "      <td>0.0</td>\n",
       "      <td>0.0</td>\n",
       "      <td>...</td>\n",
       "      <td>0.0</td>\n",
       "      <td>128.0</td>\n",
       "      <td>32.0</td>\n",
       "      <td>7.0</td>\n",
       "      <td>16.0</td>\n",
       "      <td>81.0</td>\n",
       "      <td>8.0</td>\n",
       "      <td>0.0</td>\n",
       "      <td>0.0</td>\n",
       "      <td>3</td>\n",
       "    </tr>\n",
       "  </tbody>\n",
       "</table>\n",
       "<p>5 rows × 516 columns</p>\n",
       "</div>"
      ],
      "text/plain": [
       "   order_id  user_id  order_number  order_dow  order_hour_of_day  \\\n",
       "0         4   178520            36          1                  9   \n",
       "1         5   156122            42          6                 16   \n",
       "2        15    54901            51          3                 11   \n",
       "3        18   118860             3          4                 20   \n",
       "4        28    98256            29          3                 13   \n",
       "\n",
       "   days_since_prior_order  1% Lowfat Milk  100 Calorie  Per Bag Popcorn  \\\n",
       "0                     7.0             0.0                           0.0   \n",
       "1                     9.0             0.0                           0.0   \n",
       "2                     2.0             0.0                           0.0   \n",
       "3                     6.0             0.0                           0.0   \n",
       "4                     6.0             1.0                           0.0   \n",
       "\n",
       "   100% Raw Coconut Water  100% Recycled Paper Towels  ...  \\\n",
       "0                     0.0                         0.0  ...   \n",
       "1                     0.0                         0.0  ...   \n",
       "2                     0.0                         0.0  ...   \n",
       "3                     0.0                         1.0  ...   \n",
       "4                     0.0                         0.0  ...   \n",
       "\n",
       "   Crackers Cheddar Bunnies Snack Packs  days_since_first_order  reorders  \\\n",
       "0                                   0.0                   231.0      10.0   \n",
       "1                                   0.0                   289.0      13.0   \n",
       "2                                   0.0                   152.0      19.0   \n",
       "3                                   0.0                    13.0      13.0   \n",
       "4                                   0.0                   128.0      32.0   \n",
       "\n",
       "   organics  basket_size  num_orders  global_reorders  tx_purpose_weekly  \\\n",
       "0       0.0         13.0        58.0             12.0                1.0   \n",
       "1       3.0         26.0        53.0             24.0                0.0   \n",
       "2       1.0          5.0        99.0              3.0                0.0   \n",
       "3       6.0         28.0        47.0             18.0                0.0   \n",
       "4       7.0         16.0        81.0              8.0                0.0   \n",
       "\n",
       "   tx_purpose_monthly  clusters  \n",
       "0                 0.0        11  \n",
       "1                 0.0         7  \n",
       "2                 0.0         6  \n",
       "3                 0.0         6  \n",
       "4                 0.0         3  \n",
       "\n",
       "[5 rows x 516 columns]"
      ]
     },
     "execution_count": 2,
     "metadata": {},
     "output_type": "execute_result"
    }
   ],
   "source": [
    "data = pd.read_csv('final_data_clusters.csv', index_col=0)\n",
    "print(data.shape)\n",
    "data.head()"
   ]
  },
  {
   "cell_type": "code",
   "execution_count": 3,
   "metadata": {},
   "outputs": [
    {
     "data": {
      "text/plain": [
       "10000"
      ]
     },
     "execution_count": 3,
     "metadata": {},
     "output_type": "execute_result"
    }
   ],
   "source": [
    "users = list(data['user_id'].unique())\n",
    "len(users)"
   ]
  },
  {
   "cell_type": "code",
   "execution_count": 4,
   "metadata": {},
   "outputs": [
    {
     "data": {
      "text/plain": [
       "594798"
      ]
     },
     "execution_count": 4,
     "metadata": {},
     "output_type": "execute_result"
    }
   ],
   "source": [
    "orders = list(data['order_id'].unique())\n",
    "len(orders)"
   ]
  },
  {
   "cell_type": "code",
   "execution_count": 5,
   "metadata": {},
   "outputs": [],
   "source": [
    "# data = data.set_index('user_id')\n",
    "data = data.drop(columns='order_id')\n",
    "cols = data.columns"
   ]
  },
  {
   "cell_type": "code",
   "execution_count": 6,
   "metadata": {},
   "outputs": [],
   "source": [
    "data = data.sort_values(['user_id', 'order_number'])"
   ]
  },
  {
   "cell_type": "code",
   "execution_count": 7,
   "metadata": {},
   "outputs": [
    {
     "name": "stdout",
     "output_type": "stream",
     "text": [
      "(595542, 515)\n"
     ]
    },
    {
     "data": {
      "text/html": [
       "<div>\n",
       "<style scoped>\n",
       "    .dataframe tbody tr th:only-of-type {\n",
       "        vertical-align: middle;\n",
       "    }\n",
       "\n",
       "    .dataframe tbody tr th {\n",
       "        vertical-align: top;\n",
       "    }\n",
       "\n",
       "    .dataframe thead th {\n",
       "        text-align: right;\n",
       "    }\n",
       "</style>\n",
       "<table border=\"1\" class=\"dataframe\">\n",
       "  <thead>\n",
       "    <tr style=\"text-align: right;\">\n",
       "      <th></th>\n",
       "      <th>user_id</th>\n",
       "      <th>order_number</th>\n",
       "      <th>order_dow</th>\n",
       "      <th>order_hour_of_day</th>\n",
       "      <th>days_since_prior_order</th>\n",
       "      <th>1% Lowfat Milk</th>\n",
       "      <th>100 Calorie  Per Bag Popcorn</th>\n",
       "      <th>100% Raw Coconut Water</th>\n",
       "      <th>100% Recycled Paper Towels</th>\n",
       "      <th>100% Whole Wheat Bread</th>\n",
       "      <th>...</th>\n",
       "      <th>Crackers Cheddar Bunnies Snack Packs</th>\n",
       "      <th>days_since_first_order</th>\n",
       "      <th>reorders</th>\n",
       "      <th>organics</th>\n",
       "      <th>basket_size</th>\n",
       "      <th>num_orders</th>\n",
       "      <th>global_reorders</th>\n",
       "      <th>tx_purpose_weekly</th>\n",
       "      <th>tx_purpose_monthly</th>\n",
       "      <th>clusters</th>\n",
       "    </tr>\n",
       "  </thead>\n",
       "  <tbody>\n",
       "    <tr>\n",
       "      <th>63167</th>\n",
       "      <td>27</td>\n",
       "      <td>1</td>\n",
       "      <td>3</td>\n",
       "      <td>9</td>\n",
       "      <td>0.0</td>\n",
       "      <td>0.0</td>\n",
       "      <td>0.0</td>\n",
       "      <td>0.0</td>\n",
       "      <td>0.0</td>\n",
       "      <td>0.0</td>\n",
       "      <td>...</td>\n",
       "      <td>0.0</td>\n",
       "      <td>0.0</td>\n",
       "      <td>0.0</td>\n",
       "      <td>0.0</td>\n",
       "      <td>1.0</td>\n",
       "      <td>83.0</td>\n",
       "      <td>0.0</td>\n",
       "      <td>0.0</td>\n",
       "      <td>0.0</td>\n",
       "      <td>2</td>\n",
       "    </tr>\n",
       "    <tr>\n",
       "      <th>289335</th>\n",
       "      <td>27</td>\n",
       "      <td>2</td>\n",
       "      <td>2</td>\n",
       "      <td>17</td>\n",
       "      <td>6.0</td>\n",
       "      <td>0.0</td>\n",
       "      <td>0.0</td>\n",
       "      <td>0.0</td>\n",
       "      <td>0.0</td>\n",
       "      <td>0.0</td>\n",
       "      <td>...</td>\n",
       "      <td>0.0</td>\n",
       "      <td>6.0</td>\n",
       "      <td>1.0</td>\n",
       "      <td>2.0</td>\n",
       "      <td>6.0</td>\n",
       "      <td>83.0</td>\n",
       "      <td>3.0</td>\n",
       "      <td>0.0</td>\n",
       "      <td>0.0</td>\n",
       "      <td>2</td>\n",
       "    </tr>\n",
       "    <tr>\n",
       "      <th>168422</th>\n",
       "      <td>27</td>\n",
       "      <td>3</td>\n",
       "      <td>3</td>\n",
       "      <td>8</td>\n",
       "      <td>1.0</td>\n",
       "      <td>0.0</td>\n",
       "      <td>0.0</td>\n",
       "      <td>0.0</td>\n",
       "      <td>0.0</td>\n",
       "      <td>0.0</td>\n",
       "      <td>...</td>\n",
       "      <td>0.0</td>\n",
       "      <td>7.0</td>\n",
       "      <td>1.0</td>\n",
       "      <td>0.0</td>\n",
       "      <td>2.0</td>\n",
       "      <td>83.0</td>\n",
       "      <td>2.0</td>\n",
       "      <td>0.0</td>\n",
       "      <td>0.0</td>\n",
       "      <td>2</td>\n",
       "    </tr>\n",
       "    <tr>\n",
       "      <th>495171</th>\n",
       "      <td>27</td>\n",
       "      <td>4</td>\n",
       "      <td>5</td>\n",
       "      <td>13</td>\n",
       "      <td>2.0</td>\n",
       "      <td>0.0</td>\n",
       "      <td>0.0</td>\n",
       "      <td>0.0</td>\n",
       "      <td>0.0</td>\n",
       "      <td>0.0</td>\n",
       "      <td>...</td>\n",
       "      <td>0.0</td>\n",
       "      <td>9.0</td>\n",
       "      <td>1.0</td>\n",
       "      <td>0.0</td>\n",
       "      <td>7.0</td>\n",
       "      <td>83.0</td>\n",
       "      <td>6.0</td>\n",
       "      <td>0.0</td>\n",
       "      <td>0.0</td>\n",
       "      <td>2</td>\n",
       "    </tr>\n",
       "    <tr>\n",
       "      <th>175636</th>\n",
       "      <td>27</td>\n",
       "      <td>5</td>\n",
       "      <td>2</td>\n",
       "      <td>15</td>\n",
       "      <td>4.0</td>\n",
       "      <td>0.0</td>\n",
       "      <td>0.0</td>\n",
       "      <td>0.0</td>\n",
       "      <td>0.0</td>\n",
       "      <td>0.0</td>\n",
       "      <td>...</td>\n",
       "      <td>0.0</td>\n",
       "      <td>17.0</td>\n",
       "      <td>2.0</td>\n",
       "      <td>0.0</td>\n",
       "      <td>2.0</td>\n",
       "      <td>83.0</td>\n",
       "      <td>1.0</td>\n",
       "      <td>0.0</td>\n",
       "      <td>0.0</td>\n",
       "      <td>2</td>\n",
       "    </tr>\n",
       "  </tbody>\n",
       "</table>\n",
       "<p>5 rows × 515 columns</p>\n",
       "</div>"
      ],
      "text/plain": [
       "        user_id  order_number  order_dow  order_hour_of_day  \\\n",
       "63167        27             1          3                  9   \n",
       "289335       27             2          2                 17   \n",
       "168422       27             3          3                  8   \n",
       "495171       27             4          5                 13   \n",
       "175636       27             5          2                 15   \n",
       "\n",
       "        days_since_prior_order  1% Lowfat Milk  100 Calorie  Per Bag Popcorn  \\\n",
       "63167                      0.0             0.0                           0.0   \n",
       "289335                     6.0             0.0                           0.0   \n",
       "168422                     1.0             0.0                           0.0   \n",
       "495171                     2.0             0.0                           0.0   \n",
       "175636                     4.0             0.0                           0.0   \n",
       "\n",
       "        100% Raw Coconut Water  100% Recycled Paper Towels  \\\n",
       "63167                      0.0                         0.0   \n",
       "289335                     0.0                         0.0   \n",
       "168422                     0.0                         0.0   \n",
       "495171                     0.0                         0.0   \n",
       "175636                     0.0                         0.0   \n",
       "\n",
       "        100% Whole Wheat Bread  ...  Crackers Cheddar Bunnies Snack Packs  \\\n",
       "63167                      0.0  ...                                   0.0   \n",
       "289335                     0.0  ...                                   0.0   \n",
       "168422                     0.0  ...                                   0.0   \n",
       "495171                     0.0  ...                                   0.0   \n",
       "175636                     0.0  ...                                   0.0   \n",
       "\n",
       "        days_since_first_order  reorders  organics  basket_size  num_orders  \\\n",
       "63167                      0.0       0.0       0.0          1.0        83.0   \n",
       "289335                     6.0       1.0       2.0          6.0        83.0   \n",
       "168422                     7.0       1.0       0.0          2.0        83.0   \n",
       "495171                     9.0       1.0       0.0          7.0        83.0   \n",
       "175636                    17.0       2.0       0.0          2.0        83.0   \n",
       "\n",
       "        global_reorders  tx_purpose_weekly  tx_purpose_monthly  clusters  \n",
       "63167               0.0                0.0                 0.0         2  \n",
       "289335              3.0                0.0                 0.0         2  \n",
       "168422              2.0                0.0                 0.0         2  \n",
       "495171              6.0                0.0                 0.0         2  \n",
       "175636              1.0                0.0                 0.0         2  \n",
       "\n",
       "[5 rows x 515 columns]"
      ]
     },
     "execution_count": 7,
     "metadata": {},
     "output_type": "execute_result"
    }
   ],
   "source": [
    "print(data.shape)\n",
    "data.head()"
   ]
  },
  {
   "cell_type": "code",
   "execution_count": 8,
   "metadata": {},
   "outputs": [
    {
     "data": {
      "application/vnd.jupyter.widget-view+json": {
       "model_id": "6439f1ae5b044970b55516ef7c149fe8",
       "version_major": 2,
       "version_minor": 0
      },
      "text/plain": [
       "Combinations: 0it [00:00, ?it/s]"
      ]
     },
     "metadata": {},
     "output_type": "display_data"
    },
    {
     "data": {
      "application/vnd.jupyter.widget-view+json": {
       "model_id": "8702e76ab68844728c50a9605ed7b51b",
       "version_major": 2,
       "version_minor": 0
      },
      "text/plain": [
       "combination i:3 o:1:   0%|          | 0/10000 [00:00<?, ?it/s]"
      ]
     },
     "metadata": {},
     "output_type": "display_data"
    },
    {
     "name": "stdout",
     "output_type": "stream",
     "text": [
      "(565542, 3, 514)\n",
      "(565542, 1, 501)\n"
     ]
    },
    {
     "data": {
      "application/vnd.jupyter.widget-view+json": {
       "model_id": "f232f39e536442d38c5ded6f0bfcb268",
       "version_major": 2,
       "version_minor": 0
      },
      "text/plain": [
       "combination i:3 o:2:   0%|          | 0/10000 [00:00<?, ?it/s]"
      ]
     },
     "metadata": {},
     "output_type": "display_data"
    },
    {
     "name": "stdout",
     "output_type": "stream",
     "text": [
      "(555542, 3, 514)\n",
      "(555542, 2, 501)\n"
     ]
    },
    {
     "data": {
      "application/vnd.jupyter.widget-view+json": {
       "model_id": "458b8c8e738745e09166bf48e4afef2e",
       "version_major": 2,
       "version_minor": 0
      },
      "text/plain": [
       "combination i:3 o:3:   0%|          | 0/10000 [00:00<?, ?it/s]"
      ]
     },
     "metadata": {},
     "output_type": "display_data"
    },
    {
     "name": "stdout",
     "output_type": "stream",
     "text": [
      "(545542, 3, 514)\n",
      "(545542, 3, 501)\n"
     ]
    },
    {
     "data": {
      "application/vnd.jupyter.widget-view+json": {
       "model_id": "79c11820f10c42aeb5471f5271f3957d",
       "version_major": 2,
       "version_minor": 0
      },
      "text/plain": [
       "combination i:5 o:1:   0%|          | 0/10000 [00:00<?, ?it/s]"
      ]
     },
     "metadata": {},
     "output_type": "display_data"
    },
    {
     "name": "stdout",
     "output_type": "stream",
     "text": [
      "(545542, 5, 514)\n",
      "(545542, 1, 501)\n"
     ]
    },
    {
     "data": {
      "application/vnd.jupyter.widget-view+json": {
       "model_id": "83d147317d3040e2848a8551d7e4c78b",
       "version_major": 2,
       "version_minor": 0
      },
      "text/plain": [
       "combination i:5 o:3:   0%|          | 0/10000 [00:00<?, ?it/s]"
      ]
     },
     "metadata": {},
     "output_type": "display_data"
    },
    {
     "name": "stdout",
     "output_type": "stream",
     "text": [
      "(525542, 5, 514)\n",
      "(525542, 3, 501)\n"
     ]
    },
    {
     "data": {
      "application/vnd.jupyter.widget-view+json": {
       "model_id": "68a941e8125a49fb9ec120e0c39d7158",
       "version_major": 2,
       "version_minor": 0
      },
      "text/plain": [
       "combination i:5 o:5:   0%|          | 0/10000 [00:00<?, ?it/s]"
      ]
     },
     "metadata": {},
     "output_type": "display_data"
    },
    {
     "name": "stdout",
     "output_type": "stream",
     "text": [
      "(505542, 5, 514)\n",
      "(505542, 5, 501)\n"
     ]
    },
    {
     "data": {
      "application/vnd.jupyter.widget-view+json": {
       "model_id": "ad60569aff8f4ac7ad1ae04e73915bd5",
       "version_major": 2,
       "version_minor": 0
      },
      "text/plain": [
       "combination i:10 o:1:   0%|          | 0/10000 [00:00<?, ?it/s]"
      ]
     },
     "metadata": {},
     "output_type": "display_data"
    },
    {
     "name": "stdout",
     "output_type": "stream",
     "text": [
      "(495542, 10, 514)\n",
      "(495542, 1, 501)\n"
     ]
    },
    {
     "data": {
      "application/vnd.jupyter.widget-view+json": {
       "model_id": "99048e705fdd41648e70ede78597a7fc",
       "version_major": 2,
       "version_minor": 0
      },
      "text/plain": [
       "combination i:10 o:3:   0%|          | 0/10000 [00:00<?, ?it/s]"
      ]
     },
     "metadata": {},
     "output_type": "display_data"
    },
    {
     "name": "stdout",
     "output_type": "stream",
     "text": [
      "(475542, 10, 514)\n",
      "(475542, 3, 501)\n"
     ]
    },
    {
     "data": {
      "application/vnd.jupyter.widget-view+json": {
       "model_id": "030ab157c16341fb88188c40795a52ab",
       "version_major": 2,
       "version_minor": 0
      },
      "text/plain": [
       "combination i:10 o:5:   0%|          | 0/10000 [00:00<?, ?it/s]"
      ]
     },
     "metadata": {},
     "output_type": "display_data"
    },
    {
     "name": "stdout",
     "output_type": "stream",
     "text": [
      "(455544, 10, 514)\n",
      "(455544, 5, 501)\n"
     ]
    },
    {
     "data": {
      "application/vnd.jupyter.widget-view+json": {
       "model_id": "4599ae08f4b54069879fb019227dfaad",
       "version_major": 2,
       "version_minor": 0
      },
      "text/plain": [
       "combination i:10 o:10:   0%|          | 0/10000 [00:00<?, ?it/s]"
      ]
     },
     "metadata": {},
     "output_type": "display_data"
    },
    {
     "name": "stdout",
     "output_type": "stream",
     "text": [
      "(405633, 10, 514)\n",
      "(405633, 10, 501)\n"
     ]
    }
   ],
   "source": [
    "in_len_array = [3, 3, 3, 5, 5, 5, 10, 10, 10, 10]\n",
    "out_len_array = [1, 2, 3, 1, 3, 5, 1, 3, 5, 10]\n",
    "\n",
    "for in_len, out_len in tqdm(zip(in_len_array, out_len_array), desc='Combinations'):\n",
    "\n",
    "    inp = []\n",
    "    out = []\n",
    "\n",
    "    for user in tqdm(users,desc=f'combination i:{in_len} o:{out_len}'):\n",
    "        temp = data[data['user_id']==user].values\n",
    "        for t in range(in_len, len(temp)-out_len+1):\n",
    "            i = temp[t-in_len:t, 1:]\n",
    "            o = temp[t:t+out_len, 5:-9]\n",
    "            # .drop(columns=['user_id', 'order_dow', 'order_hour_of_day', 'days_since_prior_order', 'order_number', 'days_since_first_order', 'reorders', 'organics', 'basket_size', 'num_orders', 'global_reorders'])\n",
    "            out.append(o)\n",
    "            inp.append(i)\n",
    "\n",
    "    inp = np.array(inp)\n",
    "    out = np.array(out)\n",
    "    print(inp.shape)\n",
    "    print(out.shape)\n",
    "\n",
    "    np.savez_compressed(f'arrays/np_input_{in_len}_{out_len}', inp)\n",
    "    np.savez_compressed(f'arrays/np_output_{in_len}_{out_len}', out)"
   ]
  },
  {
   "cell_type": "code",
   "execution_count": null,
   "metadata": {},
   "outputs": [],
   "source": []
  }
 ],
 "metadata": {
  "kernelspec": {
   "display_name": "Python 3",
   "language": "python",
   "name": "python3"
  },
  "language_info": {
   "codemirror_mode": {
    "name": "ipython",
    "version": 3
   },
   "file_extension": ".py",
   "mimetype": "text/x-python",
   "name": "python",
   "nbconvert_exporter": "python",
   "pygments_lexer": "ipython3",
   "version": "3.8.5"
  }
 },
 "nbformat": 4,
 "nbformat_minor": 5
}
