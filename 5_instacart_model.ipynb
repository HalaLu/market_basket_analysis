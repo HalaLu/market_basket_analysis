{
 "cells": [
  {
   "cell_type": "code",
   "execution_count": 1,
   "metadata": {},
   "outputs": [],
   "source": [
    "import pandas as pd\n",
    "import numpy as np\n",
    "import matplotlib.pyplot as plt\n",
    "\n",
    "from tqdm import tqdm\n",
    "\n",
    "from sklearn.metrics import label_ranking_average_precision_score, accuracy_score, f1_score\n",
    "from sklearn.model_selection import train_test_split\n",
    "from sklearn.utils import shuffle\n",
    "\n",
    "from tensorflow.keras.utils import plot_model\n",
    "from tensorflow.keras.models import Model\n",
    "from tensorflow.keras.layers import Dense, Input, LSTM, GRU, Reshape, TimeDistributed, RepeatVector\n",
    "from tensorflow.keras.optimizers import Adamax\n",
    "from tensorflow.keras.callbacks import ModelCheckpoint, TensorBoard\n",
    "from tensorflow.data import Dataset\n",
    "import tensorflow as tf\n",
    "\n",
    "from tensorflow.keras.utils import Sequence\n",
    "from tensorflow.keras.preprocessing.sequence import TimeseriesGenerator\n",
    "\n",
    "from tensorflow_addons.metrics import HammingLoss, F1Score, hamming_loss_fn, hamming_distance\n",
    "\n",
    "import datetime\n",
    "import sys"
   ]
  },
  {
   "cell_type": "code",
   "execution_count": 2,
   "metadata": {},
   "outputs": [],
   "source": [
    "def make_model(opt, ls, i_features, o_features, i_len, o_len, metrics):\n",
    "    \n",
    "    x = Input(batch_shape=(None, i_len, i_features), name='INPUT')\n",
    "    lstm1 = GRU(50, name='LSTM1', return_sequences=True)(x)\n",
    "    lstm1 = GRU(50, name='LSTM2')(lstm1)\n",
    "    repeater = RepeatVector(o_len, name='Repeater')(lstm1)\n",
    "    lstm2 = GRU(50, name='LSTM3', return_sequences=True)(repeater)    \n",
    "    lstm2 = GRU(50, name='LSTM4', return_sequences=True)(lstm2)    \n",
    "    y = TimeDistributed(Dense(o_features, activation='sigmoid', name='OUT'))(lstm2)\n",
    "    \n",
    "    model = Model(x, y, name=f'Seq2Seq-{i_len}-{o_len}')\n",
    "    model.compile(loss=ls, optimizer=opt, metrics=metrics)\n",
    "    return model"
   ]
  },
  {
   "cell_type": "code",
   "execution_count": 3,
   "metadata": {},
   "outputs": [],
   "source": [
    "def Custom_Hamming_Loss(y_true, y_pred):\n",
    "    return tf.math.reduce_mean(tf.cast(tf.math.greater(tf.math.abs(y_true-y_pred),0.5),dtype=float))"
   ]
  },
  {
   "cell_type": "code",
   "execution_count": 4,
   "metadata": {},
   "outputs": [],
   "source": [
    "def train_results(inp, out):\n",
    "    with np.load(f'arrays/np_input_{inp}_{out}.npz') as data:\n",
    "        inp_data = data['arr_0']\n",
    "    with np.load(f'arrays/np_output_{inp}_{out}.npz') as data:\n",
    "        out_data = data['arr_0']\n",
    "        out_data = out_data\n",
    "    \n",
    "    train_x, test_x, train_y, test_y = train_test_split(inp_data, out_data, test_size=0.2)    \n",
    "    \n",
    "    ep = 100\n",
    "    i_len = train_x[0].shape[0]\n",
    "    o_len = train_y[0].shape[0]\n",
    "    inp_features = train_x[0].shape[-1]\n",
    "    out_features = train_y[0].shape[-1]\n",
    "    lr = 0.001\n",
    "    decay = 0.001\n",
    "    batch = 5120\n",
    "    opt = Adamax(lr=lr, decay=decay)\n",
    "    ls = tf.nn.sigmoid_cross_entropy_with_logits\n",
    "    metrics = [ 'categorical_accuracy', 'Precision', 'Recall', HammingLoss(mode='multilabel')]\n",
    "    \n",
    "    filepath=f'tf/checkpoints/model-{inp}-{out}.hdf5'\n",
    "    checkpoint = ModelCheckpoint(filepath, monitor='val_loss', verbose=0, save_freq=10)\n",
    "\n",
    "    log_dir = f'tf/logs/fit/model-{inp}-{out}'\n",
    "    tensorboard = TensorBoard(log_dir=log_dir, histogram_freq=1)\n",
    "\n",
    "    callbacks_list = [checkpoint, tensorboard]\n",
    "    \n",
    "    model = make_model(opt, ls, inp_features, out_features, i_len, o_len, metrics)\n",
    "    h = model.fit(x=train_x, y=train_y, \n",
    "              validation_data=(test_x, test_y),\n",
    "              epochs=ep, \n",
    "              shuffle=True,\n",
    "              batch_size=batch,\n",
    "              callbacks=callbacks_list,\n",
    "              verbose=0)\n",
    "\n",
    "    model.save(f'tf/models/model-{inp}-{out}.h5' )\n",
    "    print(f'Model {inp}-{out}:')\n",
    "    model.evaluate(x=test_x, y=test_y)\n"
   ]
  },
  {
   "cell_type": "code",
   "execution_count": null,
   "metadata": {},
   "outputs": [],
   "source": [
    "in_len_array = [3, 3, 3, 5, 5, 5, 10, 10, 10]\n",
    "out_len_array = [1, 2, 3, 1, 3, 5, 1, 3, 5]\n",
    "\n",
    "for inp, out in zip(in_len_array,out_len_array ):\n",
    "    train_results(inp, out)"
   ]
  },
  {
   "cell_type": "code",
   "execution_count": null,
   "metadata": {},
   "outputs": [],
   "source": []
  }
 ],
 "metadata": {
  "kernelspec": {
   "display_name": "Python 3",
   "language": "python",
   "name": "python3"
  },
  "language_info": {
   "codemirror_mode": {
    "name": "ipython",
    "version": 3
   },
   "file_extension": ".py",
   "mimetype": "text/x-python",
   "name": "python",
   "nbconvert_exporter": "python",
   "pygments_lexer": "ipython3",
   "version": "3.8.5"
  }
 },
 "nbformat": 4,
 "nbformat_minor": 5
}
